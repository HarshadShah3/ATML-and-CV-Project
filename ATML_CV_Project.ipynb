{
  "cells": [
    {
      "cell_type": "code",
      "execution_count": null,
      "metadata": {
        "id": "sd6jKPiPKU6x"
      },
      "outputs": [],
      "source": [
        "import numpy as np\n",
        "import os\n",
        "\n",
        "!pip install -q pyyaml h5py\n",
        "import matplotlib.pyplot as plt\n",
        "%matplotlib inline\n",
        "import imageio\n",
        "from PIL import Image\n",
        "from skimage.transform import resize\n",
        "import datetime\n",
        "import os"
      ]
    },
    {
      "cell_type": "code",
      "execution_count": null,
      "metadata": {
        "id": "YdH3qB_BKU60"
      },
      "outputs": [],
      "source": [
        "np.random.seed(30)\n",
        "import random as rn\n",
        "rn.seed(30)\n",
        "#from keras import backend as K\n",
        "import tensorflow as tf\n",
        "tf.random.set_seed(30)"
      ]
    },
    {
      "cell_type": "code",
      "execution_count": null,
      "metadata": {
        "colab": {
          "base_uri": "https://localhost:8080/"
        },
        "id": "MzzFrwXMKU64",
        "outputId": "5f614637-6a9d-4a83-8253-2ff5ba65e43e"
      },
      "outputs": [
        {
          "output_type": "stream",
          "name": "stdout",
          "text": [
            "Drive already mounted at /content/gdrive; to attempt to forcibly remount, call drive.mount(\"/content/gdrive\", force_remount=True).\n"
          ]
        }
      ],
      "source": [
        "from google.colab import drive\n",
        "drive.mount('/content/gdrive')\n",
        "\n",
        "train_doc = np.random.permutation(open('/content/gdrive/MyDrive/ATML_CV_Dataset/train.csv').readlines())\n",
        "val_doc = np.random.permutation(open('/content/gdrive/MyDrive/ATML_CV_Dataset/val.csv').readlines())"
      ]
    },
    {
      "cell_type": "code",
      "source": [
        "!unzip -u \"/content/gdrive/MyDrive/ATML_CV_Dataset/Project_data.zip\" -d \"/content/gdrive/MyDrive/ATML_CV_Dataset/Project_Data\""
      ],
      "metadata": {
        "colab": {
          "base_uri": "https://localhost:8080/"
        },
        "id": "87felrpapKK_",
        "outputId": "f3a2d09a-74a2-48e2-9b1c-5b4ffd4ae6e8"
      },
      "execution_count": null,
      "outputs": [
        {
          "output_type": "stream",
          "name": "stdout",
          "text": [
            "unzip:  cannot find or open /content/gdrive/MyDrive/ATML_CV_Dataset/Project_data.zip, /content/gdrive/MyDrive/ATML_CV_Dataset/Project_data.zip.zip or /content/gdrive/MyDrive/ATML_CV_Dataset/Project_data.zip.ZIP.\n"
          ]
        }
      ]
    },
    {
      "cell_type": "code",
      "execution_count": null,
      "metadata": {
        "colab": {
          "base_uri": "https://localhost:8080/"
        },
        "id": "c9ARajbrKU69",
        "outputId": "39c7be83-6166-4490-f581-445ba71cd859"
      },
      "outputs": [
        {
          "output_type": "stream",
          "name": "stdout",
          "text": [
            "# training sequences = 663\n",
            "# validation sequences = 100\n"
          ]
        }
      ],
      "source": [
        "curr_dt_time = datetime.datetime.now()\n",
        "train_path = '/content/gdrive/MyDrive/ATML_CV_Dataset/Project_Data/Project_data/train'\n",
        "val_path = '/content/gdrive/MyDrive/ATML_CV_Dataset/Project_Data/Project_data/val'\n",
        "\n",
        "num_train_sequences = len(train_doc)\n",
        "print('# training sequences =', num_train_sequences)\n",
        "num_val_sequences = len(val_doc)\n",
        "print('# validation sequences =', num_val_sequences)\n",
        "#print ('# epochs =', num_epochs)"
      ]
    },
    {
      "cell_type": "code",
      "execution_count": null,
      "metadata": {
        "id": "j2UEWAWZL9RL"
      },
      "outputs": [],
      "source": [
        "tf.keras.backend.clear_session()"
      ]
    },
    {
      "cell_type": "code",
      "execution_count": null,
      "metadata": {
        "id": "mQBZHUw7V-Kw"
      },
      "outputs": [],
      "source": [
        "batch_size = 20\n",
        "x = 16\n",
        "y = 120\n",
        "z = 120\n",
        "num_epochs = 30"
      ]
    },
    {
      "cell_type": "code",
      "execution_count": null,
      "metadata": {
        "id": "4b0safo7KU6_"
      },
      "outputs": [],
      "source": [
        "from tensorflow.keras.models import Sequential, Model\n",
        "from tensorflow.keras.layers import Dense, GRU, Flatten, TimeDistributed, Flatten, BatchNormalization, Activation, Dropout\n",
        "\n",
        "from tensorflow.keras.layers import Conv3D, MaxPooling3D, Conv2D, MaxPooling2D\n",
        "from tensorflow.keras.callbacks import ModelCheckpoint, ReduceLROnPlateau\n",
        "from tensorflow.keras import optimizers\n",
        "from tensorflow.keras.optimizers import Adam\n",
        "\n",
        "Input_shape = (x, y, z, 3)\n",
        "\n",
        "model = Sequential()\n",
        "model.add(Conv3D(8, (2,2,2), padding='same', input_shape=Input_shape))\n",
        "model.add(BatchNormalization())\n",
        "model.add(Activation('relu'))\n",
        "model.add(MaxPooling3D(pool_size=(2,2,2), strides=(2,2,2)))\n",
        "\n",
        "\n",
        "model.add(Conv3D(16, (2,2,2), padding='same'))\n",
        "model.add(BatchNormalization())\n",
        "model.add(Activation('relu'))\n",
        "model.add(MaxPooling3D(pool_size=(2,2,2), strides=(2,2,2)))\n",
        "\n",
        "\n",
        "model.add(Conv3D(32, (2,2,2), padding='same'))\n",
        "model.add(BatchNormalization())\n",
        "model.add(Activation('relu'))\n",
        "model.add(MaxPooling3D(pool_size=(2,2,2), strides=(2,2,2)))\n",
        "\n",
        "\n",
        "model.add(Conv3D(64, (2,2,2), padding='same'))\n",
        "model.add(BatchNormalization())\n",
        "model.add(Activation('relu'))\n",
        "model.add(MaxPooling3D(pool_size=(2,2,2), strides=(2,2,2)))\n",
        "\n",
        "model.add(Conv3D(128, (2,2,2), padding='same'))\n",
        "model.add(BatchNormalization())\n",
        "model.add(Activation('relu'))\n",
        "model.add(MaxPooling3D(pool_size=(1,3,3), strides=(1,3,3)))\n",
        "model.add(Dropout(0.2))\n",
        "\n",
        "\n",
        "model.add(Flatten())\n",
        "model.add(Dense(256, activation='relu'))\n",
        "model.add(BatchNormalization())\n",
        "model.add(Dropout(0.2))\n",
        "\n",
        "\n",
        "model.add(Dense(5, activation='softmax'))"
      ]
    },
    {
      "cell_type": "code",
      "execution_count": null,
      "metadata": {
        "colab": {
          "base_uri": "https://localhost:8080/"
        },
        "id": "nW7ePllUKU7A",
        "outputId": "d2729b07-7912-4e4a-a9ad-ada337cd1d07",
        "scrolled": true
      },
      "outputs": [
        {
          "output_type": "stream",
          "name": "stdout",
          "text": [
            "Model: \"sequential\"\n",
            "_________________________________________________________________\n",
            " Layer (type)                Output Shape              Param #   \n",
            "=================================================================\n",
            " conv3d (Conv3D)             (None, 16, 120, 120, 8)   200       \n",
            "                                                                 \n",
            " batch_normalization (Batch  (None, 16, 120, 120, 8)   32        \n",
            " Normalization)                                                  \n",
            "                                                                 \n",
            " activation (Activation)     (None, 16, 120, 120, 8)   0         \n",
            "                                                                 \n",
            " max_pooling3d (MaxPooling3  (None, 8, 60, 60, 8)      0         \n",
            " D)                                                              \n",
            "                                                                 \n",
            " conv3d_1 (Conv3D)           (None, 8, 60, 60, 16)     1040      \n",
            "                                                                 \n",
            " batch_normalization_1 (Bat  (None, 8, 60, 60, 16)     64        \n",
            " chNormalization)                                                \n",
            "                                                                 \n",
            " activation_1 (Activation)   (None, 8, 60, 60, 16)     0         \n",
            "                                                                 \n",
            " max_pooling3d_1 (MaxPoolin  (None, 4, 30, 30, 16)     0         \n",
            " g3D)                                                            \n",
            "                                                                 \n",
            " conv3d_2 (Conv3D)           (None, 4, 30, 30, 32)     4128      \n",
            "                                                                 \n",
            " batch_normalization_2 (Bat  (None, 4, 30, 30, 32)     128       \n",
            " chNormalization)                                                \n",
            "                                                                 \n",
            " activation_2 (Activation)   (None, 4, 30, 30, 32)     0         \n",
            "                                                                 \n",
            " max_pooling3d_2 (MaxPoolin  (None, 2, 15, 15, 32)     0         \n",
            " g3D)                                                            \n",
            "                                                                 \n",
            " conv3d_3 (Conv3D)           (None, 2, 15, 15, 64)     16448     \n",
            "                                                                 \n",
            " batch_normalization_3 (Bat  (None, 2, 15, 15, 64)     256       \n",
            " chNormalization)                                                \n",
            "                                                                 \n",
            " activation_3 (Activation)   (None, 2, 15, 15, 64)     0         \n",
            "                                                                 \n",
            " max_pooling3d_3 (MaxPoolin  (None, 1, 7, 7, 64)       0         \n",
            " g3D)                                                            \n",
            "                                                                 \n",
            " conv3d_4 (Conv3D)           (None, 1, 7, 7, 128)      65664     \n",
            "                                                                 \n",
            " batch_normalization_4 (Bat  (None, 1, 7, 7, 128)      512       \n",
            " chNormalization)                                                \n",
            "                                                                 \n",
            " activation_4 (Activation)   (None, 1, 7, 7, 128)      0         \n",
            "                                                                 \n",
            " max_pooling3d_4 (MaxPoolin  (None, 1, 2, 2, 128)      0         \n",
            " g3D)                                                            \n",
            "                                                                 \n",
            " dropout (Dropout)           (None, 1, 2, 2, 128)      0         \n",
            "                                                                 \n",
            " flatten (Flatten)           (None, 512)               0         \n",
            "                                                                 \n",
            " dense (Dense)               (None, 256)               131328    \n",
            "                                                                 \n",
            " batch_normalization_5 (Bat  (None, 256)               1024      \n",
            " chNormalization)                                                \n",
            "                                                                 \n",
            " dropout_1 (Dropout)         (None, 256)               0         \n",
            "                                                                 \n",
            " dense_1 (Dense)             (None, 5)                 1285      \n",
            "                                                                 \n",
            "=================================================================\n",
            "Total params: 222109 (867.61 KB)\n",
            "Trainable params: 221101 (863.68 KB)\n",
            "Non-trainable params: 1008 (3.94 KB)\n",
            "_________________________________________________________________\n",
            "None\n"
          ]
        }
      ],
      "source": [
        "# optimiser = optimizers.SGD(learning_rate=0.001, decay=1e-6, momentum=0.9, nesterov=True) #write your optimizer\n",
        "# model.compile(optimizer=optimiser, loss='categorical_crossentropy', metrics=['categorical_accuracy'])\n",
        "# print (model.summary())\n",
        "\n",
        "optimiser = optimizers.Adam(learning_rate=0.0002)\n",
        "model.compile(optimizer=optimiser, loss='categorical_crossentropy', metrics=['categorical_accuracy'])\n",
        "print(model.summary())"
      ]
    },
    {
      "cell_type": "code",
      "execution_count": null,
      "metadata": {
        "id": "5OSA3ta4KU7C"
      },
      "outputs": [],
      "source": [
        "mypath = \"/content/gdrive/MyDrive/ATML_CV_Dataset/Project_Data\"\n",
        "model_name = mypath + 'model_init' + '_' + str(curr_dt_time).replace(' ','').replace(':','_') + '/'\n",
        "\n",
        "if not os.path.exists(model_name):\n",
        "    os.mkdir(model_name)\n",
        "\n",
        "filepath = model_name + 'model-{epoch:05d}-{loss:.5f}-{categorical_accuracy:.5f}-{val_loss:.5f}-{val_categorical_accuracy:.5f}.h5'\n",
        "\n",
        "checkpoint = ModelCheckpoint(filepath, monitor='val_loss', verbose=1, save_best_only=False, save_weights_only=False, mode='auto', save_freq='epoch')\n",
        "\n",
        "LR = ReduceLROnPlateau(monitor='val_loss', factor=0.5, patience=2, verbose=1, mode='min', min_delta=0.0001, cooldown=0, min_lr=0.00001) # write the REducelronplateau code here\n",
        "\n",
        "logdir = os.path.join(\"logs\", datetime.datetime.now().strftime(\"%Y%m%d-%H%M%S\"))\n",
        "#log_dir = model_name + \"logs/fit/\" + datetime.datetime.now().strftime(\"%Y%m%d-%H%M%S\")\n",
        "\n",
        "tensorboard_callback = tf.keras.callbacks.TensorBoard(logdir, histogram_freq=1)\n",
        "callbacks_list = [checkpoint, LR, tensorboard_callback]"
      ]
    },
    {
      "cell_type": "code",
      "execution_count": null,
      "metadata": {
        "id": "NYBiS12iKU7D"
      },
      "outputs": [],
      "source": [
        "if (num_train_sequences%batch_size) == 0:\n",
        "    steps_per_epoch = int(num_train_sequences/batch_size)\n",
        "else:\n",
        "    steps_per_epoch = (num_train_sequences//batch_size) + 1\n",
        "\n",
        "if (num_val_sequences%batch_size) == 0:\n",
        "    validation_steps = int(num_val_sequences/batch_size)\n",
        "else:\n",
        "    validation_steps = (num_val_sequences//batch_size) + 1"
      ]
    },
    {
      "cell_type": "code",
      "execution_count": null,
      "metadata": {
        "colab": {
          "base_uri": "https://localhost:8080/"
        },
        "id": "8YIBn0URKU7E",
        "outputId": "807d1b81-66b1-4ac5-cd6d-d86762196759"
      },
      "outputs": [
        {
          "output_type": "stream",
          "name": "stdout",
          "text": [
            "2.14.0\n",
            "x= 16 y= 120 z= 120 batch size= 20 epochs= 30\n",
            "Source path =  /content/gdrive/MyDrive/ATML_CV_Dataset/Project_Data/Project_data/train ; batch size = 40\n"
          ]
        },
        {
          "output_type": "stream",
          "name": "stderr",
          "text": [
            "<ipython-input-4-f0e311808174>:15: DeprecationWarning: Starting with ImageIO v3 the behavior of this function will switch to that of iio.v3.imread. To keep the current behavior (and make this warning disappear) use `import imageio.v2 as imageio` or call `imageio.v2.imread` directly.\n",
            "  image = imageio.imread(source_path+'/'+ t[folder + (batch*batch_size)].strip().split(';')[0]+'/'+imgs[item]).astype(np.float32)\n"
          ]
        },
        {
          "output_type": "stream",
          "name": "stdout",
          "text": [
            "Epoch 1/30\n",
            "15/17 [=========================>....] - ETA: 14s - loss: 1.8419 - categorical_accuracy: 0.2867"
          ]
        },
        {
          "output_type": "stream",
          "name": "stderr",
          "text": [
            "<ipython-input-4-f0e311808174>:41: DeprecationWarning: Starting with ImageIO v3 the behavior of this function will switch to that of iio.v3.imread. To keep the current behavior (and make this warning disappear) use `import imageio.v2 as imageio` or call `imageio.v2.imread` directly.\n",
            "  image = imageio.imread(source_path+'/'+ t[folder + (num_batches*batch_size)].strip().split(';')[0]+'/'+imgs[item]).astype(np.float32)\n"
          ]
        },
        {
          "output_type": "stream",
          "name": "stdout",
          "text": [
            "17/17 [==============================] - ETA: 0s - loss: 1.7975 - categorical_accuracy: 0.3002Source path =  /content/gdrive/MyDrive/ATML_CV_Dataset/Project_Data/Project_data/val ; batch size = 40\n",
            "\n",
            "Epoch 1: saving model to /content/gdrive/MyDrive/ATML_CV_Dataset/Project_Datamodel_init_2023-11-0220_33_42.209174/model-00001-1.79748-0.30015-1.66501-0.16000.h5\n"
          ]
        },
        {
          "output_type": "stream",
          "name": "stderr",
          "text": [
            "/usr/local/lib/python3.10/dist-packages/keras/src/engine/training.py:3079: UserWarning: You are saving your model as an HDF5 file via `model.save()`. This file format is considered legacy. We recommend using instead the native Keras format, e.g. `model.save('my_model.keras')`.\n",
            "  saving_api.save_model(\n"
          ]
        },
        {
          "output_type": "stream",
          "name": "stdout",
          "text": [
            "\b\b\b\b\b\b\b\b\b\b\b\b\b\b\b\b\b\b\b\b\b\b\b\b\b\b\b\b\b\b\b\b\b\b\b\b\b\b\b\b\b\b\b\b\b\b\b\b\b\b\b\b\b\b\b\b\b\b\b\b\b\b\b\b\b\b\b\b\b\b\b\b\b\b\b\b\b\b\b\b\b\b\b\b\b\b\b\b\b\b\b\b\b\b\r17/17 [==============================] - 189s 10s/step - loss: 1.7975 - categorical_accuracy: 0.3002 - val_loss: 1.6650 - val_categorical_accuracy: 0.1600 - lr: 2.0000e-04\n",
            "Epoch 2/30\n",
            "17/17 [==============================] - ETA: 0s - loss: 1.2765 - categorical_accuracy: 0.4902\n",
            "Epoch 2: saving model to /content/gdrive/MyDrive/ATML_CV_Dataset/Project_Datamodel_init_2023-11-0220_33_42.209174/model-00002-1.27655-0.49020-1.88687-0.15000.h5\n",
            "17/17 [==============================] - 148s 9s/step - loss: 1.2765 - categorical_accuracy: 0.4902 - val_loss: 1.8869 - val_categorical_accuracy: 0.1500 - lr: 2.0000e-04\n",
            "Epoch 3/30\n",
            "17/17 [==============================] - ETA: 0s - loss: 1.0572 - categorical_accuracy: 0.5897\n",
            "Epoch 3: saving model to /content/gdrive/MyDrive/ATML_CV_Dataset/Project_Datamodel_init_2023-11-0220_33_42.209174/model-00003-1.05725-0.58974-2.20778-0.17000.h5\n",
            "\n",
            "Epoch 3: ReduceLROnPlateau reducing learning rate to 9.999999747378752e-05.\n",
            "17/17 [==============================] - 132s 8s/step - loss: 1.0572 - categorical_accuracy: 0.5897 - val_loss: 2.2078 - val_categorical_accuracy: 0.1700 - lr: 2.0000e-04\n",
            "Epoch 4/30\n",
            "17/17 [==============================] - ETA: 0s - loss: 0.9189 - categorical_accuracy: 0.6486\n",
            "Epoch 4: saving model to /content/gdrive/MyDrive/ATML_CV_Dataset/Project_Datamodel_init_2023-11-0220_33_42.209174/model-00004-0.91891-0.64857-2.51612-0.16000.h5\n",
            "17/17 [==============================] - 139s 9s/step - loss: 0.9189 - categorical_accuracy: 0.6486 - val_loss: 2.5161 - val_categorical_accuracy: 0.1600 - lr: 1.0000e-04\n",
            "Epoch 5/30\n",
            "17/17 [==============================] - ETA: 0s - loss: 0.8579 - categorical_accuracy: 0.6591\n",
            "Epoch 5: saving model to /content/gdrive/MyDrive/ATML_CV_Dataset/Project_Datamodel_init_2023-11-0220_33_42.209174/model-00005-0.85790-0.65913-2.70147-0.18000.h5\n",
            "\n",
            "Epoch 5: ReduceLROnPlateau reducing learning rate to 4.999999873689376e-05.\n",
            "17/17 [==============================] - 140s 9s/step - loss: 0.8579 - categorical_accuracy: 0.6591 - val_loss: 2.7015 - val_categorical_accuracy: 0.1800 - lr: 1.0000e-04\n",
            "Epoch 6/30\n",
            "17/17 [==============================] - ETA: 0s - loss: 0.7547 - categorical_accuracy: 0.6878\n",
            "Epoch 6: saving model to /content/gdrive/MyDrive/ATML_CV_Dataset/Project_Datamodel_init_2023-11-0220_33_42.209174/model-00006-0.75467-0.68778-3.11678-0.18000.h5\n",
            "17/17 [==============================] - 132s 8s/step - loss: 0.7547 - categorical_accuracy: 0.6878 - val_loss: 3.1168 - val_categorical_accuracy: 0.1800 - lr: 5.0000e-05\n",
            "Epoch 7/30\n",
            "17/17 [==============================] - ETA: 0s - loss: 0.6747 - categorical_accuracy: 0.7406\n",
            "Epoch 7: saving model to /content/gdrive/MyDrive/ATML_CV_Dataset/Project_Datamodel_init_2023-11-0220_33_42.209174/model-00007-0.67468-0.74057-3.32114-0.18000.h5\n",
            "\n",
            "Epoch 7: ReduceLROnPlateau reducing learning rate to 2.499999936844688e-05.\n",
            "17/17 [==============================] - 142s 9s/step - loss: 0.6747 - categorical_accuracy: 0.7406 - val_loss: 3.3211 - val_categorical_accuracy: 0.1800 - lr: 5.0000e-05\n",
            "Epoch 8/30\n",
            "17/17 [==============================] - ETA: 0s - loss: 0.6833 - categorical_accuracy: 0.7436\n",
            "Epoch 8: saving model to /content/gdrive/MyDrive/ATML_CV_Dataset/Project_Datamodel_init_2023-11-0220_33_42.209174/model-00008-0.68334-0.74359-3.83904-0.16000.h5\n",
            "17/17 [==============================] - 140s 9s/step - loss: 0.6833 - categorical_accuracy: 0.7436 - val_loss: 3.8390 - val_categorical_accuracy: 0.1600 - lr: 2.5000e-05\n",
            "Epoch 9/30\n",
            "17/17 [==============================] - ETA: 0s - loss: 0.6683 - categorical_accuracy: 0.7481\n",
            "Epoch 9: saving model to /content/gdrive/MyDrive/ATML_CV_Dataset/Project_Datamodel_init_2023-11-0220_33_42.209174/model-00009-0.66828-0.74811-3.60142-0.22000.h5\n",
            "\n",
            "Epoch 9: ReduceLROnPlateau reducing learning rate to 1.249999968422344e-05.\n",
            "17/17 [==============================] - 138s 9s/step - loss: 0.6683 - categorical_accuracy: 0.7481 - val_loss: 3.6014 - val_categorical_accuracy: 0.2200 - lr: 2.5000e-05\n",
            "Epoch 10/30\n",
            "17/17 [==============================] - ETA: 0s - loss: 0.6442 - categorical_accuracy: 0.7541\n",
            "Epoch 10: saving model to /content/gdrive/MyDrive/ATML_CV_Dataset/Project_Datamodel_init_2023-11-0220_33_42.209174/model-00010-0.64425-0.75415-3.86010-0.26000.h5\n",
            "17/17 [==============================] - 142s 9s/step - loss: 0.6442 - categorical_accuracy: 0.7541 - val_loss: 3.8601 - val_categorical_accuracy: 0.2600 - lr: 1.2500e-05\n",
            "Epoch 11/30\n",
            "17/17 [==============================] - ETA: 0s - loss: 0.7020 - categorical_accuracy: 0.7089\n",
            "Epoch 11: saving model to /content/gdrive/MyDrive/ATML_CV_Dataset/Project_Datamodel_init_2023-11-0220_33_42.209174/model-00011-0.70198-0.70890-3.89919-0.28000.h5\n",
            "\n",
            "Epoch 11: ReduceLROnPlateau reducing learning rate to 1e-05.\n",
            "17/17 [==============================] - 145s 9s/step - loss: 0.7020 - categorical_accuracy: 0.7089 - val_loss: 3.8992 - val_categorical_accuracy: 0.2800 - lr: 1.2500e-05\n",
            "Epoch 12/30\n",
            "17/17 [==============================] - ETA: 0s - loss: 0.6784 - categorical_accuracy: 0.7511\n",
            "Epoch 12: saving model to /content/gdrive/MyDrive/ATML_CV_Dataset/Project_Datamodel_init_2023-11-0220_33_42.209174/model-00012-0.67837-0.75113-3.94963-0.29000.h5\n",
            "17/17 [==============================] - 137s 9s/step - loss: 0.6784 - categorical_accuracy: 0.7511 - val_loss: 3.9496 - val_categorical_accuracy: 0.2900 - lr: 1.0000e-05\n",
            "Epoch 13/30\n",
            "17/17 [==============================] - ETA: 0s - loss: 0.6969 - categorical_accuracy: 0.7330\n",
            "Epoch 13: saving model to /content/gdrive/MyDrive/ATML_CV_Dataset/Project_Datamodel_init_2023-11-0220_33_42.209174/model-00013-0.69695-0.73303-4.07495-0.28000.h5\n",
            "17/17 [==============================] - 143s 9s/step - loss: 0.6969 - categorical_accuracy: 0.7330 - val_loss: 4.0749 - val_categorical_accuracy: 0.2800 - lr: 1.0000e-05\n",
            "Epoch 14/30\n",
            "17/17 [==============================] - ETA: 0s - loss: 0.6396 - categorical_accuracy: 0.7647\n",
            "Epoch 14: saving model to /content/gdrive/MyDrive/ATML_CV_Dataset/Project_Datamodel_init_2023-11-0220_33_42.209174/model-00014-0.63959-0.76471-4.02826-0.28000.h5\n",
            "17/17 [==============================] - 142s 9s/step - loss: 0.6396 - categorical_accuracy: 0.7647 - val_loss: 4.0283 - val_categorical_accuracy: 0.2800 - lr: 1.0000e-05\n",
            "Epoch 15/30\n",
            "17/17 [==============================] - ETA: 0s - loss: 0.6324 - categorical_accuracy: 0.7677\n",
            "Epoch 15: saving model to /content/gdrive/MyDrive/ATML_CV_Dataset/Project_Datamodel_init_2023-11-0220_33_42.209174/model-00015-0.63243-0.76772-3.79396-0.28000.h5\n",
            "17/17 [==============================] - 134s 8s/step - loss: 0.6324 - categorical_accuracy: 0.7677 - val_loss: 3.7940 - val_categorical_accuracy: 0.2800 - lr: 1.0000e-05\n",
            "Epoch 16/30\n",
            "17/17 [==============================] - ETA: 0s - loss: 0.6574 - categorical_accuracy: 0.7602\n",
            "Epoch 16: saving model to /content/gdrive/MyDrive/ATML_CV_Dataset/Project_Datamodel_init_2023-11-0220_33_42.209174/model-00016-0.65743-0.76018-3.75698-0.30000.h5\n",
            "17/17 [==============================] - 140s 9s/step - loss: 0.6574 - categorical_accuracy: 0.7602 - val_loss: 3.7570 - val_categorical_accuracy: 0.3000 - lr: 1.0000e-05\n",
            "Epoch 17/30\n",
            "17/17 [==============================] - ETA: 0s - loss: 0.6207 - categorical_accuracy: 0.7511\n",
            "Epoch 17: saving model to /content/gdrive/MyDrive/ATML_CV_Dataset/Project_Datamodel_init_2023-11-0220_33_42.209174/model-00017-0.62071-0.75113-3.83111-0.23000.h5\n",
            "17/17 [==============================] - 140s 9s/step - loss: 0.6207 - categorical_accuracy: 0.7511 - val_loss: 3.8311 - val_categorical_accuracy: 0.2300 - lr: 1.0000e-05\n",
            "Epoch 18/30\n",
            "17/17 [==============================] - ETA: 0s - loss: 0.6762 - categorical_accuracy: 0.7406\n",
            "Epoch 18: saving model to /content/gdrive/MyDrive/ATML_CV_Dataset/Project_Datamodel_init_2023-11-0220_33_42.209174/model-00018-0.67621-0.74057-3.25164-0.28000.h5\n",
            "17/17 [==============================] - 135s 8s/step - loss: 0.6762 - categorical_accuracy: 0.7406 - val_loss: 3.2516 - val_categorical_accuracy: 0.2800 - lr: 1.0000e-05\n",
            "Epoch 19/30\n",
            "17/17 [==============================] - ETA: 0s - loss: 0.6530 - categorical_accuracy: 0.7330\n",
            "Epoch 19: saving model to /content/gdrive/MyDrive/ATML_CV_Dataset/Project_Datamodel_init_2023-11-0220_33_42.209174/model-00019-0.65298-0.73303-3.05742-0.27000.h5\n",
            "17/17 [==============================] - 140s 9s/step - loss: 0.6530 - categorical_accuracy: 0.7330 - val_loss: 3.0574 - val_categorical_accuracy: 0.2700 - lr: 1.0000e-05\n",
            "Epoch 20/30\n",
            "17/17 [==============================] - ETA: 0s - loss: 0.6241 - categorical_accuracy: 0.7617\n",
            "Epoch 20: saving model to /content/gdrive/MyDrive/ATML_CV_Dataset/Project_Datamodel_init_2023-11-0220_33_42.209174/model-00020-0.62409-0.76169-2.95449-0.23000.h5\n",
            "17/17 [==============================] - 135s 8s/step - loss: 0.6241 - categorical_accuracy: 0.7617 - val_loss: 2.9545 - val_categorical_accuracy: 0.2300 - lr: 1.0000e-05\n",
            "Epoch 21/30\n",
            "17/17 [==============================] - ETA: 0s - loss: 0.6569 - categorical_accuracy: 0.7541\n",
            "Epoch 21: saving model to /content/gdrive/MyDrive/ATML_CV_Dataset/Project_Datamodel_init_2023-11-0220_33_42.209174/model-00021-0.65693-0.75415-2.52762-0.29000.h5\n",
            "17/17 [==============================] - 132s 8s/step - loss: 0.6569 - categorical_accuracy: 0.7541 - val_loss: 2.5276 - val_categorical_accuracy: 0.2900 - lr: 1.0000e-05\n",
            "Epoch 22/30\n",
            "17/17 [==============================] - ETA: 0s - loss: 0.5798 - categorical_accuracy: 0.7828\n",
            "Epoch 22: saving model to /content/gdrive/MyDrive/ATML_CV_Dataset/Project_Datamodel_init_2023-11-0220_33_42.209174/model-00022-0.57976-0.78281-2.21394-0.32000.h5\n",
            "17/17 [==============================] - 143s 9s/step - loss: 0.5798 - categorical_accuracy: 0.7828 - val_loss: 2.2139 - val_categorical_accuracy: 0.3200 - lr: 1.0000e-05\n",
            "Epoch 23/30\n",
            "17/17 [==============================] - ETA: 0s - loss: 0.6069 - categorical_accuracy: 0.7662\n",
            "Epoch 23: saving model to /content/gdrive/MyDrive/ATML_CV_Dataset/Project_Datamodel_init_2023-11-0220_33_42.209174/model-00023-0.60692-0.76621-1.62374-0.41000.h5\n",
            "17/17 [==============================] - 129s 8s/step - loss: 0.6069 - categorical_accuracy: 0.7662 - val_loss: 1.6237 - val_categorical_accuracy: 0.4100 - lr: 1.0000e-05\n",
            "Epoch 24/30\n",
            "17/17 [==============================] - ETA: 0s - loss: 0.5802 - categorical_accuracy: 0.7783\n",
            "Epoch 24: saving model to /content/gdrive/MyDrive/ATML_CV_Dataset/Project_Datamodel_init_2023-11-0220_33_42.209174/model-00024-0.58023-0.77828-1.71096-0.40000.h5\n",
            "17/17 [==============================] - 131s 8s/step - loss: 0.5802 - categorical_accuracy: 0.7783 - val_loss: 1.7110 - val_categorical_accuracy: 0.4000 - lr: 1.0000e-05\n",
            "Epoch 25/30\n",
            "17/17 [==============================] - ETA: 0s - loss: 0.5778 - categorical_accuracy: 0.7873\n",
            "Epoch 25: saving model to /content/gdrive/MyDrive/ATML_CV_Dataset/Project_Datamodel_init_2023-11-0220_33_42.209174/model-00025-0.57776-0.78733-1.48989-0.46000.h5\n",
            "17/17 [==============================] - 133s 8s/step - loss: 0.5778 - categorical_accuracy: 0.7873 - val_loss: 1.4899 - val_categorical_accuracy: 0.4600 - lr: 1.0000e-05\n",
            "Epoch 26/30\n",
            "17/17 [==============================] - ETA: 0s - loss: 0.5923 - categorical_accuracy: 0.7692\n",
            "Epoch 26: saving model to /content/gdrive/MyDrive/ATML_CV_Dataset/Project_Datamodel_init_2023-11-0220_33_42.209174/model-00026-0.59226-0.76923-1.22132-0.55000.h5\n",
            "17/17 [==============================] - 131s 8s/step - loss: 0.5923 - categorical_accuracy: 0.7692 - val_loss: 1.2213 - val_categorical_accuracy: 0.5500 - lr: 1.0000e-05\n",
            "Epoch 27/30\n",
            "17/17 [==============================] - ETA: 0s - loss: 0.6443 - categorical_accuracy: 0.7270\n",
            "Epoch 27: saving model to /content/gdrive/MyDrive/ATML_CV_Dataset/Project_Datamodel_init_2023-11-0220_33_42.209174/model-00027-0.64433-0.72700-1.27941-0.53000.h5\n",
            "17/17 [==============================] - 125s 8s/step - loss: 0.6443 - categorical_accuracy: 0.7270 - val_loss: 1.2794 - val_categorical_accuracy: 0.5300 - lr: 1.0000e-05\n",
            "Epoch 28/30\n",
            "17/17 [==============================] - ETA: 0s - loss: 0.5984 - categorical_accuracy: 0.7647\n",
            "Epoch 28: saving model to /content/gdrive/MyDrive/ATML_CV_Dataset/Project_Datamodel_init_2023-11-0220_33_42.209174/model-00028-0.59838-0.76471-1.05555-0.60000.h5\n",
            "17/17 [==============================] - 137s 9s/step - loss: 0.5984 - categorical_accuracy: 0.7647 - val_loss: 1.0555 - val_categorical_accuracy: 0.6000 - lr: 1.0000e-05\n",
            "Epoch 29/30\n",
            "17/17 [==============================] - ETA: 0s - loss: 0.5880 - categorical_accuracy: 0.7707\n",
            "Epoch 29: saving model to /content/gdrive/MyDrive/ATML_CV_Dataset/Project_Datamodel_init_2023-11-0220_33_42.209174/model-00029-0.58802-0.77074-0.94112-0.65000.h5\n",
            "17/17 [==============================] - 129s 8s/step - loss: 0.5880 - categorical_accuracy: 0.7707 - val_loss: 0.9411 - val_categorical_accuracy: 0.6500 - lr: 1.0000e-05\n",
            "Epoch 30/30\n",
            "17/17 [==============================] - ETA: 0s - loss: 0.5537 - categorical_accuracy: 0.7949\n",
            "Epoch 30: saving model to /content/gdrive/MyDrive/ATML_CV_Dataset/Project_Datamodel_init_2023-11-0220_33_42.209174/model-00030-0.55372-0.79487-0.86431-0.69000.h5\n",
            "17/17 [==============================] - 128s 8s/step - loss: 0.5537 - categorical_accuracy: 0.7949 - val_loss: 0.8643 - val_categorical_accuracy: 0.6900 - lr: 1.0000e-05\n"
          ]
        }
      ],
      "source": [
        "print(tf. __version__)\n",
        "print('x=',x,'y=',y,'z=',z,'batch size=',batch_size,'epochs=',num_epochs)\n",
        "history = model.fit(train_generator, steps_per_epoch=steps_per_epoch, epochs=num_epochs, verbose=1,\n",
        "                    callbacks=callbacks_list, validation_data=val_generator,\n",
        "                    validation_steps=validation_steps, class_weight=None, workers=1, initial_epoch=0)"
      ]
    },
    {
      "cell_type": "code",
      "execution_count": null,
      "metadata": {
        "colab": {
          "base_uri": "https://localhost:8080/",
          "height": 386
        },
        "id": "7L_7Z0kAKU7F",
        "outputId": "61cd826e-fe98-4c02-d43f-4c432810dfcc"
      },
      "outputs": [
        {
          "output_type": "execute_result",
          "data": {
            "text/plain": [
              "<matplotlib.legend.Legend at 0x792adff70ee0>"
            ]
          },
          "metadata": {},
          "execution_count": 20
        },
        {
          "output_type": "display_data",
          "data": {
            "text/plain": [
              "<Figure size 1600x400 with 2 Axes>"
            ],
            "image/png": "[encoded data removed]"
          },
          "metadata": {}
        }
      ],
      "source": [
        "fig, axes = plt.subplots(nrows=1, ncols=2, figsize=(16,4))\n",
        "axes[0].plot(history.history['categorical_accuracy'])\n",
        "axes[0].plot(history.history['val_categorical_accuracy'])\n",
        "axes[0].legend(['categorical_accuracy','val_categorical_accuracy'])\n",
        "\n",
        "axes[1].plot(history.history['loss'])\n",
        "axes[1].plot(history.history['val_loss'])\n",
        "axes[1].legend(['loss','val_loss'])"
      ]
    },
    {
      "cell_type": "code",
      "execution_count": null,
      "metadata": {
        "id": "SAyMxaHoxYx5"
      },
      "outputs": [],
      "source": [
        "batch_size =32 #experiment with the batch size\n",
        "x = 16\n",
        "y = 120\n",
        "z = 120\n",
        "num_epochs = 60 # choose the number of epochs"
      ]
    },
    {
      "cell_type": "code",
      "execution_count": null,
      "metadata": {
        "id": "nPaBQtdoxbU2"
      },
      "outputs": [],
      "source": [
        "from tensorflow.keras.models import Sequential, Model\n",
        "from tensorflow.keras.layers import Dense, GRU, Flatten, TimeDistributed, Flatten, BatchNormalization, Activation, Dropout\n",
        "\n",
        "from tensorflow.keras.layers import Conv3D, MaxPooling3D, Conv2D, MaxPooling2D\n",
        "from tensorflow.keras.callbacks import ModelCheckpoint, ReduceLROnPlateau\n",
        "from tensorflow.keras import optimizers\n",
        "from tensorflow.keras.optimizers import Adam\n",
        "\n",
        "Input_shape = (x, y, z, 3)\n",
        "\n",
        "model = Sequential()\n",
        "model.add(Conv3D(16, (2,2,2), padding='same', input_shape=Input_shape))\n",
        "model.add(BatchNormalization())\n",
        "model.add(Activation('relu'))\n",
        "model.add(MaxPooling3D(pool_size=(2,2,2), strides=(2,2,2)))\n",
        "\n",
        "model.add(Conv3D(32, (2,2,2), padding='same'))\n",
        "model.add(BatchNormalization())\n",
        "model.add(Activation('relu'))\n",
        "model.add(MaxPooling3D(pool_size=(2,2,2), strides=(2,2,2)))\n",
        "\n",
        "model.add(Conv3D(64, (2,2,2), padding='same'))\n",
        "model.add(BatchNormalization())\n",
        "model.add(Activation('relu'))\n",
        "model.add(MaxPooling3D(pool_size=(2,2,2), strides=(2,2,2)))\n",
        "\n",
        "model.add(Conv3D(128, (2,2,2), padding='same'))\n",
        "model.add(BatchNormalization())\n",
        "model.add(Activation('relu'))\n",
        "model.add(MaxPooling3D(pool_size=(2,2,2), strides=(2,2,2)))\n",
        "\n",
        "model.add(Flatten())\n",
        "model.add(Dense(256, activation='relu'))\n",
        "model.add(BatchNormalization())\n",
        "model.add(Dropout(0.5))\n",
        "\n",
        "model.add(Dense(256, activation='relu'))\n",
        "model.add(BatchNormalization())\n",
        "model.add(Dropout(0.5))\n",
        "\n",
        "model.add(Dense(5, activation='softmax'))"
      ]
    },
    {
      "cell_type": "code",
      "execution_count": null,
      "metadata": {
        "id": "ceu_V3C8z1ff"
      },
      "outputs": [],
      "source": [
        "optimiser = optimizers.Adam(learning_rate=0.0002)\n",
        "model.compile(optimizer=optimiser, loss='categorical_crossentropy', metrics=['categorical_accuracy'])\n",
        "print(model.summary())"
      ]
    },
    {
      "cell_type": "code",
      "execution_count": null,
      "metadata": {
        "id": "S6KpYH9bxhit"
      },
      "outputs": [],
      "source": [
        "train_generator = generator(train_path, train_doc, batch_size, x, y, z)\n",
        "val_generator = generator(val_path, val_doc, batch_size, x, y, z)"
      ]
    },
    {
      "cell_type": "code",
      "execution_count": null,
      "metadata": {
        "id": "leAlpnkFx4mv"
      },
      "outputs": [],
      "source": [
        "mypath = \"/content/gdrive/My Drive/Colab Notebooks/Neural Networks Project - Gesture Recognition/Gesture recognition using CNN and RNN/\"\n",
        "model_name = mypath + 'Model_2_Conv3D' + '_' + str(curr_dt_time).replace(' ','').replace(':','_') + '/'\n",
        "\n",
        "if not os.path.exists(model_name):\n",
        "    os.mkdir(model_name)\n",
        "\n",
        "filepath = model_name + 'model-{epoch:05d}-{loss:.5f}-{categorical_accuracy:.5f}-{val_loss:.5f}-{val_categorical_accuracy:.5f}.h5'\n",
        "\n",
        "checkpoint = ModelCheckpoint(filepath, monitor='val_loss', verbose=1, save_best_only=False, save_weights_only=False, mode='auto', save_freq='epoch')\n",
        "\n",
        "LR = ReduceLROnPlateau(monitor='val_loss', factor=0.5, patience=2, verbose=1, mode='min', min_delta=0.0001, cooldown=0, min_lr=0.00001) # write the REducelronplateau code here\n",
        "\n",
        "logdir = os.path.join(\"logs\", datetime.datetime.now().strftime(\"%Y%m%d-%H%M%S\"))\n",
        "#log_dir = model_name + \"logs/fit/\" + datetime.datetime.now().strftime(\"%Y%m%d-%H%M%S\")\n",
        "\n",
        "tensorboard_callback = tf.keras.callbacks.TensorBoard(logdir, histogram_freq=1)\n",
        "callbacks_list = [checkpoint, LR, tensorboard_callback]"
      ]
    },
    {
      "cell_type": "code",
      "execution_count": null,
      "metadata": {
        "id": "HDT7w1qlx6q9"
      },
      "outputs": [],
      "source": [
        "if (num_train_sequences%batch_size) == 0:\n",
        "    steps_per_epoch = int(num_train_sequences/batch_size)\n",
        "else:\n",
        "    steps_per_epoch = (num_train_sequences//batch_size) + 1\n",
        "\n",
        "if (num_val_sequences%batch_size) == 0:\n",
        "    validation_steps = int(num_val_sequences/batch_size)\n",
        "else:\n",
        "    validation_steps = (num_val_sequences//batch_size) + 1"
      ]
    },
    {
      "cell_type": "code",
      "execution_count": null,
      "metadata": {
        "id": "49IEmVV2yFc5"
      },
      "outputs": [],
      "source": [
        "print(tf. __version__)\n",
        "print('x=',x,'y=',y,'z=',z,'batch size =',batch_size,'epochs=',num_epochs)\n",
        "history = model.fit(train_generator, steps_per_epoch=steps_per_epoch, epochs=num_epochs, verbose=1,\n",
        "                    callbacks=callbacks_list, validation_data=val_generator,\n",
        "                    validation_steps=validation_steps, class_weight=None, workers=1, initial_epoch=0)"
      ]
    },
    {
      "cell_type": "code",
      "execution_count": null,
      "metadata": {
        "id": "MGcjbcO8yGOV"
      },
      "outputs": [],
      "source": [
        "fig, axes = plt.subplots(nrows=1, ncols=2, figsize=(16,4))\n",
        "axes[0].plot(history.history['categorical_accuracy'])\n",
        "axes[0].plot(history.history['val_categorical_accuracy'])\n",
        "axes[0].legend(['categorical_accuracy','val_categorical_accuracy'])\n",
        "\n",
        "axes[1].plot(history.history['loss'])\n",
        "axes[1].plot(history.history['val_loss'])\n",
        "axes[1].legend(['loss','val_loss'])"
      ]
    },
    {
      "cell_type": "markdown",
      "metadata": {
        "id": "OWbhc1v1S_WN"
      },
      "source": [
        "## Conv3D"
      ]
    },
    {
      "cell_type": "code",
      "execution_count": null,
      "metadata": {
        "id": "uf2vahTMS98i"
      },
      "outputs": [],
      "source": [
        "batch_size =16 #experiment with the batch size\n",
        "x = 12\n",
        "y = 120\n",
        "z = 120\n",
        "num_epochs = 50 # choose the number of epochs"
      ]
    },
    {
      "cell_type": "code",
      "execution_count": null,
      "metadata": {
        "id": "DD5il1FsTkxn"
      },
      "outputs": [],
      "source": [
        "from tensorflow.keras.models import Sequential, Model\n",
        "from tensorflow.keras.layers import Dense, GRU, Flatten, TimeDistributed, Flatten, BatchNormalization, Activation, Dropout\n",
        "\n",
        "from tensorflow.keras.layers import Conv3D, MaxPooling3D, Conv2D, MaxPooling2D\n",
        "from tensorflow.keras.callbacks import ModelCheckpoint, ReduceLROnPlateau\n",
        "from tensorflow.keras import optimizers\n",
        "from tensorflow.keras.optimizers import Adam\n",
        "\n",
        "Input_shape = (x, y, z, 3)\n",
        "\n",
        "model = Sequential()\n",
        "model.add(Conv3D(16, (2,2,2), padding='same', input_shape=Input_shape))\n",
        "model.add(BatchNormalization())\n",
        "model.add(Activation('relu'))\n",
        "model.add(MaxPooling3D(pool_size=(2,2,2), strides=(2,2,2)))\n",
        "\n",
        "model.add(Conv3D(32, (2,2,2), padding='same'))\n",
        "model.add(BatchNormalization())\n",
        "model.add(Activation('relu'))\n",
        "model.add(MaxPooling3D(pool_size=(2,2,2), strides=(2,2,2)))\n",
        "\n",
        "model.add(Conv3D(64, (2,2,2), padding='same'))\n",
        "model.add(BatchNormalization())\n",
        "model.add(Activation('relu'))\n",
        "model.add(MaxPooling3D(pool_size=(2,2,2), strides=(2,2,2)))\n",
        "\n",
        "model.add(Conv3D(128, (2,2,2), padding='same'))\n",
        "model.add(BatchNormalization())\n",
        "model.add(Activation('relu'))\n",
        "model.add(MaxPooling3D(pool_size=(1,3,3), strides=(1,3,3)))\n",
        "\n",
        "model.add(Flatten())\n",
        "model.add(Dense(256, activation='relu'))\n",
        "model.add(BatchNormalization())\n",
        "model.add(Dropout(0.5))\n",
        "\n",
        "model.add(Dense(256, activation='relu'))\n",
        "model.add(BatchNormalization())\n",
        "model.add(Dropout(0.5))\n",
        "\n",
        "model.add(Dense(5, activation='softmax'))"
      ]
    },
    {
      "cell_type": "code",
      "execution_count": null,
      "metadata": {
        "id": "i1A4jtWETmV_"
      },
      "outputs": [],
      "source": [
        "optimiser = optimizers.Adam()\n",
        "model.compile(optimizer=optimiser, loss='categorical_crossentropy', metrics=['categorical_accuracy'])\n",
        "print(model.summary())"
      ]
    },
    {
      "cell_type": "code",
      "execution_count": null,
      "metadata": {
        "id": "-6GaKxXIURDB"
      },
      "outputs": [],
      "source": [
        "train_generator = generator(train_path, train_doc, batch_size, x, y, z)\n",
        "val_generator = generator(val_path, val_doc, batch_size, x, y, z)"
      ]
    },
    {
      "cell_type": "code",
      "execution_count": null,
      "metadata": {
        "id": "-nh-z9j9URWt"
      },
      "outputs": [],
      "source": [
        "mypath = \"/content/gdrive/My Drive/Colab Notebooks/Neural Networks Project - Gesture Recognition/Gesture recognition using CNN and RNN/\"\n",
        "model_name = mypath + 'Model_3_Conv3D' + '_' + str(curr_dt_time).replace(' ','').replace(':','_') + '/'\n",
        "\n",
        "if not os.path.exists(model_name):\n",
        "    os.mkdir(model_name)\n",
        "\n",
        "filepath = model_name + 'model-{epoch:05d}-{loss:.5f}-{categorical_accuracy:.5f}-{val_loss:.5f}-{val_categorical_accuracy:.5f}.h5'\n",
        "\n",
        "checkpoint = ModelCheckpoint(filepath, monitor='val_loss', verbose=1, save_best_only=False, save_weights_only=False, mode='auto', save_freq='epoch')\n",
        "\n",
        "LR = ReduceLROnPlateau(monitor='val_loss', factor=0.5, patience=2, verbose=1, mode='min', min_delta=0.0001, cooldown=0, min_lr=0.00001) # write the REducelronplateau code here\n",
        "\n",
        "logdir = os.path.join(\"logs\", datetime.datetime.now().strftime(\"%Y%m%d-%H%M%S\"))\n",
        "#log_dir = model_name + \"logs/fit/\" + datetime.datetime.now().strftime(\"%Y%m%d-%H%M%S\")\n",
        "\n",
        "tensorboard_callback = tf.keras.callbacks.TensorBoard(logdir, histogram_freq=1)\n",
        "callbacks_list = [checkpoint, LR, tensorboard_callback]"
      ]
    },
    {
      "cell_type": "code",
      "execution_count": null,
      "metadata": {
        "id": "icud6uKbURoL"
      },
      "outputs": [],
      "source": [
        "if (num_train_sequences%batch_size) == 0:\n",
        "    steps_per_epoch = int(num_train_sequences/batch_size)\n",
        "else:\n",
        "    steps_per_epoch = (num_train_sequences//batch_size) + 1\n",
        "\n",
        "if (num_val_sequences%batch_size) == 0:\n",
        "    validation_steps = int(num_val_sequences/batch_size)\n",
        "else:\n",
        "    validation_steps = (num_val_sequences//batch_size) + 1"
      ]
    },
    {
      "cell_type": "code",
      "execution_count": null,
      "metadata": {
        "id": "y4odMggqUh60"
      },
      "outputs": [],
      "source": [
        "print(tf. __version__)\n",
        "print('x=',x,'y=',y,'z=',z,'batch size =',batch_size,'epochs=',num_epochs)\n",
        "history = model.fit(train_generator, steps_per_epoch=steps_per_epoch, epochs=num_epochs, verbose=1,\n",
        "                    callbacks=callbacks_list, validation_data=val_generator,\n",
        "                    validation_steps=validation_steps, class_weight=None, workers=1, initial_epoch=0)"
      ]
    },
    {
      "cell_type": "code",
      "execution_count": null,
      "metadata": {
        "id": "XPpc_OoOUi69"
      },
      "outputs": [],
      "source": [
        "fig, axes = plt.subplots(nrows=1, ncols=2, figsize=(16,4))\n",
        "axes[0].plot(history.history['categorical_accuracy'])\n",
        "axes[0].plot(history.history['val_categorical_accuracy'])\n",
        "axes[0].legend(['categorical_accuracy','val_categorical_accuracy'])\n",
        "\n",
        "axes [1].plot(history.history['loss'])\n",
        "axes[1].plot(history.history['val_loss'])\n",
        "axes[1].legend(['loss','val_loss'])"
      ]
    },
    {
      "cell_type": "markdown",
      "metadata": {
        "id": "AjQGaMqOZSCm"
      },
      "source": [
        "## Conv3D"
      ]
    },
    {
      "cell_type": "code",
      "execution_count": null,
      "metadata": {
        "id": "vkiA_mbRZMia"
      },
      "outputs": [],
      "source": [
        "batch_size = 32 #experiment with the batch size\n",
        "x = 16\n",
        "y = 120\n",
        "z = 120\n",
        "num_epochs = 50 # choose the number of epochs"
      ]
    },
    {
      "cell_type": "code",
      "execution_count": null,
      "metadata": {
        "id": "gc353kbaZO2f"
      },
      "outputs": [],
      "source": [
        "from tensorflow.keras.models import Sequential, Model\n",
        "from tensorflow.keras.layers import Dense, GRU, Flatten, TimeDistributed, Flatten, BatchNormalization, Activation, Dropout\n",
        "\n",
        "from tensorflow.keras.layers import Conv3D, MaxPooling3D, Conv2D, MaxPooling2D\n",
        "from tensorflow.keras.callbacks import ModelCheckpoint, ReduceLROnPlateau\n",
        "from tensorflow.keras import optimizers\n",
        "from tensorflow.keras.optimizers import Adam\n",
        "\n",
        "#write your model here\n",
        "Input_shape = (x, y, z, 3)\n",
        "\n",
        "model = Sequential()\n",
        "model.add(Conv3D(16, (2,2,2), padding='same', input_shape=Input_shape))\n",
        "model.add(BatchNormalization())\n",
        "model.add(Activation('relu'))\n",
        "model.add(MaxPooling3D(pool_size=(2,2,2), strides=(2,2,2)))\n",
        "\n",
        "\n",
        "model.add(Conv3D(32, (2,2,2), padding='same'))\n",
        "model.add(BatchNormalization())\n",
        "model.add(Activation('relu'))\n",
        "model.add(MaxPooling3D(pool_size=(2,2,2), strides=(2,2,2)))\n",
        "\n",
        "\n",
        "model.add(Conv3D(64, (2,2,2), padding='same'))\n",
        "model.add(BatchNormalization())\n",
        "model.add(Activation('relu'))\n",
        "model.add(MaxPooling3D(pool_size=(2,2,2), strides=(2,2,2)))\n",
        "\n",
        "\n",
        "model.add(Conv3D(128, (2,2,2), padding='same'))\n",
        "model.add(BatchNormalization())\n",
        "model.add(Activation('relu'))\n",
        "model.add(MaxPooling3D(pool_size=(2,2,2), strides=(2,2,2)))\n",
        "\n",
        "model.add(Conv3D(256, (2,2,2), padding='same'))\n",
        "model.add(BatchNormalization())\n",
        "model.add(Activation('relu'))\n",
        "model.add(MaxPooling3D(pool_size=(1,3,3), strides=(1,3,3)))\n",
        "\n",
        "model.add(Flatten())\n",
        "\n",
        "model.add(Dense(256, activation='relu'))\n",
        "model.add(BatchNormalization())\n",
        "model.add(Dropout(0.5))\n",
        "\n",
        "model.add(Dense(256, activation='relu'))\n",
        "model.add(BatchNormalization())\n",
        "model.add(Dropout(0.5))\n",
        "\n",
        "model.add(Dense(5, activation='softmax'))"
      ]
    },
    {
      "cell_type": "code",
      "execution_count": null,
      "metadata": {
        "id": "qwl67xt5ZPco"
      },
      "outputs": [],
      "source": [
        "optimiser = optimizers.Adam()\n",
        "model.compile(optimizer=optimiser, loss='categorical_crossentropy', metrics=['categorical_accuracy'])\n",
        "print(model.summary())"
      ]
    },
    {
      "cell_type": "code",
      "execution_count": null,
      "metadata": {
        "id": "fCVfkd-LZPsN"
      },
      "outputs": [],
      "source": [
        "train_generator = generator(train_path, train_doc, batch_size, x, y, z)\n",
        "val_generator = generator(val_path, val_doc, batch_size, x, y, z)"
      ]
    },
    {
      "cell_type": "code",
      "execution_count": null,
      "metadata": {
        "id": "fXxxWw1jZP5F"
      },
      "outputs": [],
      "source": [
        "mypath = \"/content/gdrive/My Drive/Colab Notebooks/Neural Networks Project - Gesture Recognition/Gesture recognition using CNN and RNN/\"\n",
        "model_name = mypath + 'Model_4_Conv3D' + '_' + str(curr_dt_time).replace(' ','').replace(':','_') + '/'\n",
        "\n",
        "if not os.path.exists(model_name):\n",
        "    os.mkdir(model_name)\n",
        "\n",
        "filepath = model_name + 'model-{epoch:05d}-{loss:.5f}-{categorical_accuracy:.5f}-{val_loss:.5f}-{val_categorical_accuracy:.5f}.h5'\n",
        "\n",
        "checkpoint = ModelCheckpoint(filepath, monitor='val_loss', verbose=1, save_best_only=False, save_weights_only=False, mode='auto', save_freq='epoch')\n",
        "\n",
        "LR = ReduceLROnPlateau(monitor='val_loss', factor=0.5, patience=2, verbose=1, mode='min', min_delta=0.0001, cooldown=0, min_lr=0.00001) # write the REducelronplateau code here\n",
        "\n",
        "logdir = os.path.join(\"logs\", datetime.datetime.now().strftime(\"%Y%m%d-%H%M%S\"))\n",
        "#log_dir = model_name + \"logs/fit/\" + datetime.datetime.now().strftime(\"%Y%m%d-%H%M%S\")\n",
        "\n",
        "tensorboard_callback = tf.keras.callbacks.TensorBoard(logdir, histogram_freq=1)\n",
        "callbacks_list = [checkpoint, LR, tensorboard_callback]"
      ]
    },
    {
      "cell_type": "code",
      "execution_count": null,
      "metadata": {
        "id": "C6A_XNRpZQGp"
      },
      "outputs": [],
      "source": [
        "if (num_train_sequences%batch_size) == 0:\n",
        "    steps_per_epoch = int(num_train_sequences/batch_size)\n",
        "else:\n",
        "    steps_per_epoch = (num_train_sequences//batch_size) + 1\n",
        "\n",
        "if (num_val_sequences%batch_size) == 0:\n",
        "    validation_steps = int(num_val_sequences/batch_size)\n",
        "else:\n",
        "    validation_steps = (num_val_sequences//batch_size) + 1"
      ]
    },
    {
      "cell_type": "code",
      "execution_count": null,
      "metadata": {
        "id": "06CnZ9PQD0jr"
      },
      "outputs": [],
      "source": [
        "print(tf. __version__)\n",
        "print('x=',x,'y=',y,'z=',z,'batch size =',batch_size,'epochs=',num_epochs)\n",
        "history = model.fit(train_generator, steps_per_epoch=steps_per_epoch, epochs=num_epochs, verbose=1,\n",
        "                    callbacks=callbacks_list, validation_data=val_generator,\n",
        "                    validation_steps=validation_steps, class_weight=None, workers=1, initial_epoch=0)"
      ]
    },
    {
      "cell_type": "code",
      "execution_count": null,
      "metadata": {
        "id": "jsBzrVGyD2_o"
      },
      "outputs": [],
      "source": [
        "fig, axes = plt.subplots(nrows=1, ncols=2, figsize=(16,4))\n",
        "axes[0].plot(history.history['categorical_accuracy'])\n",
        "axes[0].plot(history.history['val_categorical_accuracy'])\n",
        "axes[0].legend(['categorical_accuracy','val_categorical_accuracy'])\n",
        "\n",
        "axes[1].plot(history.history['loss'])\n",
        "axes[1].plot(history.history['val_loss'])\n",
        "axes[1].legend(['loss','val_loss'])"
      ]
    },
    {
      "cell_type": "markdown",
      "metadata": {
        "id": "zclQuEnQYcWz"
      },
      "source": [
        "## Model: CNN & GRU"
      ]
    },
    {
      "cell_type": "code",
      "execution_count": null,
      "metadata": {
        "id": "6WXjrcYfXoEi"
      },
      "outputs": [],
      "source": [
        "from tensorflow.keras.models import Sequential, Model\n",
        "from tensorflow.keras.layers import Dense, GRU, Flatten, TimeDistributed, Flatten, BatchNormalization, Activation, Dropout\n",
        "\n",
        "from tensorflow.keras.layers import Conv3D, MaxPooling3D, Conv2D, MaxPooling2D\n",
        "from tensorflow.keras.callbacks import ModelCheckpoint, ReduceLROnPlateau\n",
        "from tensorflow.keras import optimizers\n",
        "from tensorflow.keras.optimizers import Adam\n",
        "\n",
        "units = 128\n",
        "dense_neurons = 128\n",
        "dropout=0.4\n",
        "num_classes = 5\n",
        "batch_size = 64\n",
        "x = 16\n",
        "y = 100\n",
        "z = 100\n",
        "num_epochs = 60\n",
        "Input_shape = (x, y, z, 3)\n",
        "\n",
        "model = Sequential()\n",
        "model.add(TimeDistributed(Conv2D(16, (3, 3) , padding='same', activation='relu'),\n",
        "                          input_shape=Input_shape))\n",
        "model.add(TimeDistributed(BatchNormalization()))\n",
        "model.add(TimeDistributed(MaxPooling2D((2, 2))))\n",
        "\n",
        "model.add(TimeDistributed(Conv2D(32, (3, 3) , padding='same', activation='relu')))\n",
        "model.add(TimeDistributed(BatchNormalization()))\n",
        "model.add(TimeDistributed(MaxPooling2D((2, 2))))\n",
        "\n",
        "model.add(TimeDistributed(Conv2D(64, (3, 3) , padding='same', activation='relu')))\n",
        "model.add(TimeDistributed(BatchNormalization()))\n",
        "model.add(TimeDistributed(MaxPooling2D((2, 2))))\n",
        "\n",
        "model.add(TimeDistributed(Conv2D(128, (3, 3) , padding='same', activation='relu')))\n",
        "model.add(TimeDistributed(BatchNormalization()))\n",
        "model.add(TimeDistributed(MaxPooling2D((2, 2))))\n",
        "\n",
        "model.add(TimeDistributed(Flatten()))\n",
        "\n",
        "model.add(GRU(units))\n",
        "model.add(Dropout(dropout))\n",
        "\n",
        "model.add(Dense(dense_neurons,activation='relu'))\n",
        "model.add(Dropout(dropout))\n",
        "\n",
        "model.add(Dense(num_classes, activation='softmax'))\n",
        "\n",
        "model.summary()"
      ]
    },
    {
      "cell_type": "code",
      "execution_count": null,
      "metadata": {
        "id": "e0EwlPjMYuv6"
      },
      "outputs": [],
      "source": [
        "optimizer = optimizers.Adam(learning_rate=0.0002)\n",
        "model.compile(optimizer=optimizer, loss='categorical_crossentropy', metrics=['categorical_accuracy'])"
      ]
    },
    {
      "cell_type": "code",
      "execution_count": null,
      "metadata": {
        "id": "Gfbt5DLTd7fo"
      },
      "outputs": [],
      "source": [
        "train_generator = generator(train_path, train_doc, batch_size, x, y, z)\n",
        "val_generator = generator(val_path, val_doc, batch_size, x, y, z)"
      ]
    },
    {
      "cell_type": "code",
      "execution_count": null,
      "metadata": {
        "id": "elmXBPGbd9Qk"
      },
      "outputs": [],
      "source": [
        "mypath = \"/content/gdrive/My Drive/Colab Notebooks/Neural Networks Project - Gesture Recognition/Gesture recognition using CNN and RNN/\"\n",
        "model_name = mypath + 'CNN_RNN' + '_' + str(curr_dt_time).replace(' ','').replace(':','_') + '/'\n",
        "\n",
        "if not os.path.exists(model_name):\n",
        "    os.mkdir(model_name)\n",
        "\n",
        "filepath = model_name + 'model-{epoch:05d}-{loss:.5f}-{categorical_accuracy:.5f}-{val_loss:.5f}-{val_categorical_accuracy:.5f}.h5'\n",
        "\n",
        "checkpoint = ModelCheckpoint(filepath, monitor='val_loss', verbose=1, save_best_only=False, save_weights_only=False, mode='auto', save_freq= 'epoch')\n",
        "\n",
        "LR = ReduceLROnPlateau(monitor='val_loss', factor=0.5, patience=2, verbose=1, mode='min', min_delta=0.0001, cooldown=0, min_lr=0.00001) # write the REducelronplateau code here\n",
        "\n",
        "logdir = os.path.join(\"logs\", datetime.datetime.now().strftime(\"%Y%m%d-%H%M%S\"))\n",
        "\n",
        "tensorboard_callback = tf.keras.callbacks.TensorBoard(logdir, histogram_freq=1)\n",
        "callbacks_list = [checkpoint, LR, tensorboard_callback]"
      ]
    },
    {
      "cell_type": "code",
      "execution_count": null,
      "metadata": {
        "id": "uNi_93aKeNJG"
      },
      "outputs": [],
      "source": [
        "if (num_train_sequences%batch_size) == 0:\n",
        "    steps_per_epoch = int(num_train_sequences/batch_size)\n",
        "else:\n",
        "    steps_per_epoch = (num_train_sequences//batch_size) + 1\n",
        "\n",
        "if (num_val_sequences%batch_size) == 0:\n",
        "    validation_steps = int(num_val_sequences/batch_size)\n",
        "else:\n",
        "    validation_steps = (num_val_sequences//batch_size) + 1"
      ]
    },
    {
      "cell_type": "code",
      "execution_count": null,
      "metadata": {
        "id": "-U0fZpKxePau"
      },
      "outputs": [],
      "source": [
        "print(tf. __version__)\n",
        "history = model.fit(train_generator, steps_per_epoch=steps_per_epoch, epochs=num_epochs, verbose=1,\n",
        "                    callbacks=callbacks_list, validation_data=val_generator,\n",
        "                    validation_steps=validation_steps, class_weight=None, workers=1, initial_epoch=0)"
      ]
    },
    {
      "cell_type": "code",
      "execution_count": null,
      "metadata": {
        "id": "8I52jOuMgNI8"
      },
      "outputs": [],
      "source": [
        "fig, axes = plt.subplots(nrows=1, ncols=2, figsize=(16,4))\n",
        "axes[0].plot(history.history['categorical_accuracy'])\n",
        "axes[0].plot(history.history['val_categorical_accuracy'])\n",
        "axes[0].legend(['categorical_accuracy','val_categorical_accuracy'])\n",
        "\n",
        "axes[1].plot(history.history['loss'])\n",
        "axes[1].plot(history.history['val_loss'])\n",
        "axes[1].legend(['loss','val_loss'])"
      ]
    },
    {
      "cell_type": "markdown",
      "metadata": {
        "id": "_xpLK3jkQoZI"
      },
      "source": [
        "## CNN & RNN (GRU)"
      ]
    },
    {
      "cell_type": "code",
      "execution_count": null,
      "metadata": {
        "id": "9cYhKyg4QexX"
      },
      "outputs": [],
      "source": [
        "from tensorflow.keras.models import Sequential, Model\n",
        "from tensorflow.keras.layers import Dense, GRU, Flatten, TimeDistributed, Flatten, BatchNormalization, Activation, Dropout\n",
        "\n",
        "from tensorflow.keras.layers import Conv3D, MaxPooling3D, Conv2D, MaxPooling2D\n",
        "from tensorflow.keras.callbacks import ModelCheckpoint, ReduceLROnPlateau\n",
        "from tensorflow.keras import optimizers\n",
        "from tensorflow.keras.optimizers import Adam\n",
        "\n",
        "units = 128\n",
        "dense_neurons = 128\n",
        "dropout=0.5\n",
        "num_classes = 5\n",
        "batch_size = 32\n",
        "x = 16\n",
        "y = 120\n",
        "z = 120\n",
        "num_epochs = 60\n",
        "Input_shape = (x, y, z, 3)\n",
        "\n",
        "model = Sequential()\n",
        "model.add(TimeDistributed(Conv2D(16, (3, 3) , padding='same', activation='relu'),\n",
        "                          input_shape=Input_shape))\n",
        "model.add(TimeDistributed(BatchNormalization()))\n",
        "model.add(TimeDistributed(MaxPooling2D((2, 2))))\n",
        "\n",
        "model.add(TimeDistributed(Conv2D(32, (3, 3) , padding='same', activation='relu')))\n",
        "model.add(TimeDistributed(BatchNormalization()))\n",
        "model.add(TimeDistributed(MaxPooling2D((2, 2))))\n",
        "\n",
        "model.add(TimeDistributed(Conv2D(64, (3, 3) , padding='same', activation='relu')))\n",
        "model.add(TimeDistributed(BatchNormalization()))\n",
        "model.add(TimeDistributed(MaxPooling2D((2, 2))))\n",
        "\n",
        "model.add(TimeDistributed(Conv2D(128, (3, 3) , padding='same', activation='relu')))\n",
        "model.add(TimeDistributed(BatchNormalization()))\n",
        "model.add(TimeDistributed(MaxPooling2D((2, 2))))\n",
        "\n",
        "model.add(TimeDistributed(Conv2D(256, (3, 3) , padding='same', activation='relu')))\n",
        "model.add(TimeDistributed(BatchNormalization()))\n",
        "model.add(TimeDistributed(MaxPooling2D((2, 2))))\n",
        "\n",
        "model.add(TimeDistributed(Flatten()))\n",
        "model.add(Dropout(dropout))\n",
        "\n",
        "model.add(GRU(units))\n",
        "\n",
        "model.add(Dense(dense_neurons,activation='relu'))\n",
        "model.add(Dropout(dropout))\n",
        "\n",
        "model.add(Dense(num_classes, activation='softmax'))\n",
        "\n",
        "model.summary()"
      ]
    },
    {
      "cell_type": "code",
      "execution_count": null,
      "metadata": {
        "id": "_wGNFst_QtCl"
      },
      "outputs": [],
      "source": [
        "optimizer = optimizers.Adam()\n",
        "model.compile(optimizer=optimizer, loss='categorical_crossentropy', metrics=['categorical_accuracy'])"
      ]
    },
    {
      "cell_type": "code",
      "execution_count": null,
      "metadata": {
        "id": "ViE-80zXQtYG"
      },
      "outputs": [],
      "source": [
        "train_generator = generator(train_path, train_doc, batch_size, x, y, z)\n",
        "val_generator = generator(val_path, val_doc, batch_size, x, y, z)"
      ]
    },
    {
      "cell_type": "code",
      "execution_count": null,
      "metadata": {
        "id": "jx0oxByhQtrP"
      },
      "outputs": [],
      "source": [
        "mypath = \"/content/gdrive/My Drive/Colab Notebooks/Neural Networks Project - Gesture Recognition/Gesture recognition using CNN and RNN/\"\n",
        "model_name = mypath + 'CNN_RNN_Model_2' + '_' + str(curr_dt_time).replace(' ','').replace(':','_') + '/'\n",
        "\n",
        "if not os.path.exists(model_name):\n",
        "    os.mkdir(model_name)\n",
        "\n",
        "filepath = model_name + 'model-{epoch:05d}-{loss:.5f}-{categorical_accuracy:.5f}-{val_loss:.5f}-{val_categorical_accuracy:.5f}.h5'\n",
        "\n",
        "checkpoint = ModelCheckpoint(filepath, monitor='val_loss', verbose=1, save_best_only=False, save_weights_only=False, mode='auto', save_freq= 'epoch')\n",
        "\n",
        "LR = ReduceLROnPlateau(monitor='val_loss', factor=0.5, patience=2, verbose=1, mode='min', min_delta=0.0001, cooldown=0, min_lr=0.00001) # write the REducelronplateau code here\n",
        "\n",
        "logdir = os.path.join(\"logs\", datetime.datetime.now().strftime(\"%Y%m%d-%H%M%S\"))\n",
        "\n",
        "tensorboard_callback = tf.keras.callbacks.TensorBoard(logdir, histogram_freq=1)\n",
        "callbacks_list = [checkpoint, LR, tensorboard_callback]"
      ]
    },
    {
      "cell_type": "code",
      "execution_count": null,
      "metadata": {
        "id": "QegtczSpQt8O"
      },
      "outputs": [],
      "source": [
        "if (num_train_sequences%batch_size) == 0:\n",
        "    steps_per_epoch = int(num_train_sequences/batch_size)\n",
        "else:\n",
        "    steps_per_epoch = (num_train_sequences//batch_size) + 1\n",
        "\n",
        "if (num_val_sequences%batch_size) == 0:\n",
        "    validation_steps = int(num_val_sequences/batch_size)\n",
        "else:\n",
        "    validation_steps = (num_val_sequences//batch_size) + 1"
      ]
    },
    {
      "cell_type": "code",
      "execution_count": null,
      "metadata": {
        "id": "MIh-GnC-zBR4"
      },
      "outputs": [],
      "source": [
        "%load_ext tensorboard\n",
        "%tensorboard --logdir logs"
      ]
    },
    {
      "cell_type": "code",
      "execution_count": null,
      "metadata": {
        "id": "iuk2XsDxQuTv"
      },
      "outputs": [],
      "source": [
        "print(tf. __version__)\n",
        "history = model.fit(train_generator, steps_per_epoch=steps_per_epoch, epochs=num_epochs, verbose=1,\n",
        "                    callbacks=callbacks_list, validation_data=val_generator,\n",
        "                    validation_steps=validation_steps, class_weight=None, workers=1, initial_epoch=0)"
      ]
    },
    {
      "cell_type": "code",
      "execution_count": null,
      "metadata": {
        "id": "x-oIIkqWREgM"
      },
      "outputs": [],
      "source": [
        "fig, axes = plt.subplots(nrows=1, ncols=2, figsize=(16,4))\n",
        "axes[0].plot(history.history['categorical_accuracy'])\n",
        "axes[0].plot(history.history['val_categorical_accuracy'])\n",
        "axes[0].legend(['categorical_accuracy','val_categorical_accuracy'])\n",
        "\n",
        "axes[1].plot(history.history['loss'])\n",
        "axes[1].plot(history.history['val_loss'])\n",
        "axes[1].legend(['loss','val_loss'])"
      ]
    },
    {
      "cell_type": "markdown",
      "metadata": {
        "id": "aVK_6cEhtEPL"
      },
      "source": [
        "Transfer learning CNN & RNN (GRU)"
      ]
    },
    {
      "cell_type": "code",
      "execution_count": null,
      "metadata": {
        "id": "mCf7YUdTlmjA"
      },
      "outputs": [],
      "source": [
        "from tensorflow.keras.models import Sequential, Model\n",
        "from tensorflow.keras.layers import Dense, GRU, Flatten, TimeDistributed, Flatten, BatchNormalization, Activation, Dropout\n",
        "\n",
        "from tensorflow.keras.layers import Conv3D, MaxPooling3D, Conv2D, MaxPooling2D\n",
        "from tensorflow.keras.callbacks import ModelCheckpoint, ReduceLROnPlateau\n",
        "from tensorflow.keras import optimizers\n",
        "from tensorflow.keras.optimizers import Adam\n",
        "\n",
        "from keras.applications import mobilenet\n",
        "\n",
        "units = 128\n",
        "dense_neurons = 128\n",
        "dropout=0.25\n",
        "num_classes = 5\n",
        "batch_size = 8\n",
        "x = 16\n",
        "y = 128\n",
        "z = 128\n",
        "num_epochs = 20\n",
        "Input_shape = (x, y, z, 3)\n",
        "\n",
        "mobilenet_transfer = mobilenet.MobileNet(input_shape = (y, z, 3), weights='imagenet', include_top=False)\n",
        "\n",
        "model = Sequential()\n",
        "model.add(TimeDistributed(mobilenet_transfer,input_shape=Input_shape))\n",
        "\n",
        "model.add(TimeDistributed(BatchNormalization()))\n",
        "model.add(TimeDistributed(MaxPooling2D((2, 2))))\n",
        "model.add(TimeDistributed(Flatten()))\n",
        "\n",
        "model.add(GRU(units))\n",
        "model.add(Dropout(dropout))\n",
        "\n",
        "model.add(Dense(dense_neurons,activation='relu'))\n",
        "model.add(Dropout(dropout))\n",
        "\n",
        "model.add(Dense(num_classes, activation='softmax'))"
      ]
    },
    {
      "cell_type": "code",
      "execution_count": null,
      "metadata": {
        "id": "2oleT-T7lnEp"
      },
      "outputs": [],
      "source": [
        "optimizer = optimizers.Adam()\n",
        "model.compile(optimizer=optimizer, loss='categorical_crossentropy', metrics=['categorical_accuracy'])"
      ]
    },
    {
      "cell_type": "code",
      "execution_count": null,
      "metadata": {
        "id": "4EeYehM9lna1"
      },
      "outputs": [],
      "source": [
        "train_generator = generator(train_path, train_doc, batch_size, x, y, z)\n",
        "val_generator = generator(val_path, val_doc, batch_size, x, y, z)"
      ]
    },
    {
      "cell_type": "code",
      "execution_count": null,
      "metadata": {
        "id": "RyB5svs9ln-F"
      },
      "outputs": [],
      "source": [
        "mypath = \"/content/gdrive/My Drive/Colab Notebooks/Neural Networks Project - Gesture Recognition/Gesture recognition using CNN and RNN/\"\n",
        "model_name = mypath + 'CNN_RNN_Model_3' + '_' + str(curr_dt_time).replace(' ','').replace(':','_') + '/'\n",
        "\n",
        "if not os.path.exists(model_name):\n",
        "    os.mkdir(model_name)\n",
        "\n",
        "filepath = model_name + 'model-{epoch:05d}-{loss:.5f}-{categorical_accuracy:.5f}-{val_loss:.5f}-{val_categorical_accuracy:.5f}.h5'\n",
        "\n",
        "checkpoint = ModelCheckpoint(filepath, monitor='val_loss', verbose=1, save_best_only=False, save_weights_only=False, mode='auto', save_freq= 'epoch')\n",
        "\n",
        "LR = ReduceLROnPlateau(monitor='val_loss', factor=0.5, patience=2, verbose=1, mode='min', min_delta=0.0001, cooldown=0, min_lr=0.00001) # write the REducelronplateau code here\n",
        "\n",
        "logdir = os.path.join(\"logs\", datetime.datetime.now().strftime(\"%Y%m%d-%H%M%S\"))\n",
        "\n",
        "tensorboard_callback = tf.keras.callbacks.TensorBoard(logdir, histogram_freq=1)\n",
        "callbacks_list = [checkpoint, LR, tensorboard_callback]"
      ]
    },
    {
      "cell_type": "code",
      "execution_count": null,
      "metadata": {
        "id": "_4yaHbmLloYg"
      },
      "outputs": [],
      "source": [
        "if (num_train_sequences%batch_size) == 0:\n",
        "    steps_per_epoch = int(num_train_sequences/batch_size)\n",
        "else:\n",
        "    steps_per_epoch = (num_train_sequences//batch_size) + 1\n",
        "\n",
        "if (num_val_sequences%batch_size) == 0:\n",
        "    validation_steps = int(num_val_sequences/batch_size)\n",
        "else:\n",
        "    validation_steps = (num_val_sequences//batch_size) + 1"
      ]
    },
    {
      "cell_type": "code",
      "execution_count": null,
      "metadata": {
        "id": "Bn-sEGqNzEjd"
      },
      "outputs": [],
      "source": [
        "%load_ext tensorboard\n",
        "%tensorboard --logdir logs"
      ]
    },
    {
      "cell_type": "code",
      "execution_count": null,
      "metadata": {
        "id": "LtQVM2U3sGSL"
      },
      "outputs": [],
      "source": [
        "print(tf. __version__)\n",
        "history = model.fit(train_generator, steps_per_epoch=steps_per_epoch, epochs=num_epochs, verbose=1,\n",
        "                    callbacks=callbacks_list, validation_data=val_generator,\n",
        "                    validation_steps=validation_steps, class_weight=None, workers=1, initial_epoch=0)"
      ]
    },
    {
      "cell_type": "code",
      "execution_count": null,
      "metadata": {
        "id": "HrkDphSWxgaV"
      },
      "outputs": [],
      "source": [
        "fig, axes = plt.subplots(nrows=1, ncols=2, figsize=(16,4))\n",
        "axes[0].plot(history.history['categorical_accuracy'])\n",
        "axes[0].plot(history.history['val_categorical_accuracy'])\n",
        "axes[0].legend(['categorical_accuracy','val_categorical_accuracy'])\n",
        "\n",
        "axes[1].plot(history.history['loss'])\n",
        "axes[1].plot(history.history['val_loss'])\n",
        "axes[1].legend(['loss','val_loss'])"
      ]
    },
    {
      "cell_type": "markdown",
      "metadata": {
        "id": "irTRuoPgSdjg"
      },
      "source": [
        "## Transfer learning CNN & RNN (LSTM)"
      ]
    },
    {
      "cell_type": "code",
      "execution_count": null,
      "metadata": {
        "id": "EOC_g8cPScce"
      },
      "outputs": [],
      "source": [
        "from tensorflow.keras.models import Sequential, Model\n",
        "from tensorflow.keras.layers import Dense, LSTM, Flatten, TimeDistributed, Flatten, BatchNormalization, Activation, Dropout\n",
        "\n",
        "from tensorflow.keras.layers import Conv3D, MaxPooling3D, Conv2D, MaxPooling2D\n",
        "from tensorflow.keras.callbacks import ModelCheckpoint, ReduceLROnPlateau\n",
        "from tensorflow.keras import optimizers\n",
        "from tensorflow.keras.optimizers import Adam\n",
        "\n",
        "units = 128\n",
        "dense_neurons = 128\n",
        "dropout=0.5\n",
        "num_classes = 5\n",
        "batch_size = 32\n",
        "x = 16\n",
        "y = 120\n",
        "z = 120\n",
        "num_epochs = 50\n",
        "Input_shape = (x, y, z, 3)\n",
        "\n",
        "model = Sequential()\n",
        "model.add(TimeDistributed(Conv2D(16, (3, 3) , padding='same', activation='relu'),\n",
        "                          input_shape=Input_shape))\n",
        "model.add(TimeDistributed(BatchNormalization()))\n",
        "model.add(TimeDistributed(MaxPooling2D((2, 2))))\n",
        "\n",
        "model.add(TimeDistributed(Conv2D(32, (3, 3) , padding='same', activation='relu')))\n",
        "model.add(TimeDistributed(BatchNormalization()))\n",
        "model.add(TimeDistributed(MaxPooling2D((2, 2))))\n",
        "\n",
        "model.add(TimeDistributed(Conv2D(64, (3, 3) , padding='same', activation='relu')))\n",
        "model.add(TimeDistributed(BatchNormalization()))\n",
        "model.add(TimeDistributed(MaxPooling2D((2, 2))))\n",
        "\n",
        "model.add(TimeDistributed(Conv2D(128, (3, 3) , padding='same', activation='relu')))\n",
        "model.add(TimeDistributed(BatchNormalization()))\n",
        "model.add(TimeDistributed(MaxPooling2D((2, 2))))\n",
        "\n",
        "model.add(TimeDistributed(Conv2D(256, (3, 3) , padding='same', activation='relu')))\n",
        "model.add(TimeDistributed(BatchNormalization()))\n",
        "model.add(TimeDistributed(MaxPooling2D((2, 2))))\n",
        "\n",
        "model.add(TimeDistributed(Flatten()))\n",
        "model.add(Dropout(dropout))\n",
        "\n",
        "model.add(LSTM(units))\n",
        "\n",
        "model.add(Dense(dense_neurons,activation='relu'))\n",
        "model.add(Dropout(dropout))\n",
        "\n",
        "model.add(Dense(num_classes, activation='softmax'))\n",
        "\n",
        "model.summary()"
      ]
    },
    {
      "cell_type": "code",
      "execution_count": null,
      "metadata": {
        "id": "Farje4OLSfK3"
      },
      "outputs": [],
      "source": [
        "optimizer = optimizers.Adam()\n",
        "model.compile(optimizer=optimizer, loss='categorical_crossentropy', metrics=['categorical_accuracy'])"
      ]
    },
    {
      "cell_type": "code",
      "execution_count": null,
      "metadata": {
        "id": "CL58ibX-Sfhb"
      },
      "outputs": [],
      "source": [
        "train_generator = generator(train_path, train_doc, batch_size, x, y, z)\n",
        "val_generator = generator(val_path, val_doc, batch_size, x, y, z)"
      ]
    },
    {
      "cell_type": "code",
      "execution_count": null,
      "metadata": {
        "id": "SrO6KjzCSf8j"
      },
      "outputs": [],
      "source": [
        "mypath = \"/content/gdrive/My Drive/Colab Notebooks/Neural Networks Project - Gesture Recognition/Gesture recognition using CNN and RNN/\"\n",
        "model_name = mypath + 'CNN_RNN_Model_4' + '_' + str(curr_dt_time).replace(' ','').replace(':','_') + '/'\n",
        "\n",
        "if not os.path.exists(model_name):\n",
        "    os.mkdir(model_name)\n",
        "\n",
        "filepath = model_name + 'model-{epoch:05d}-{loss:.5f}-{categorical_accuracy:.5f}-{val_loss:.5f}-{val_categorical_accuracy:.5f}.h5'\n",
        "\n",
        "checkpoint = ModelCheckpoint(filepath, monitor='val_loss', verbose=1, save_best_only=False, save_weights_only=False, mode='auto', save_freq= 'epoch')\n",
        "\n",
        "LR = ReduceLROnPlateau(monitor='val_loss', factor=0.5, patience=2, verbose=1, mode='min', min_delta=0.0001, cooldown=0, min_lr=0.00001) # write the REducelronplateau code here\n",
        "\n",
        "logdir = os.path.join(\"logs\", datetime.datetime.now().strftime(\"%Y%m%d-%H%M%S\"))\n",
        "\n",
        "tensorboard_callback = tf.keras.callbacks.TensorBoard(logdir, histogram_freq=1)\n",
        "callbacks_list = [checkpoint, LR, tensorboard_callback]"
      ]
    },
    {
      "cell_type": "code",
      "execution_count": null,
      "metadata": {
        "id": "Fmoz3fASSgV9"
      },
      "outputs": [],
      "source": [
        "if (num_train_sequences%batch_size) == 0:\n",
        "    steps_per_epoch = int(num_train_sequences/batch_size)\n",
        "else:\n",
        "    steps_per_epoch = (num_train_sequences//batch_size) + 1\n",
        "\n",
        "if (num_val_sequences%batch_size) == 0:\n",
        "    validation_steps = int(num_val_sequences/batch_size)\n",
        "else:\n",
        "    validation_steps = (num_val_sequences//batch_size) + 1"
      ]
    },
    {
      "cell_type": "code",
      "execution_count": null,
      "metadata": {
        "id": "_P82FuS3UXdT"
      },
      "outputs": [],
      "source": [
        "print(tf. __version__)\n",
        "history = model.fit(train_generator, steps_per_epoch=steps_per_epoch, epochs=num_epochs, verbose=1,\n",
        "                    callbacks=callbacks_list, validation_data=val_generator,\n",
        "                    validation_steps=validation_steps, class_weight=None, workers=1, initial_epoch=0)"
      ]
    },
    {
      "cell_type": "code",
      "execution_count": null,
      "metadata": {
        "id": "r78d3XyaUXzC"
      },
      "outputs": [],
      "source": [
        "fig, axes = plt.subplots(nrows=1, ncols=2, figsize=(16,4))\n",
        "axes[0].plot(history.history['categorical_accuracy'])\n",
        "axes[0].plot(history.history['val_categorical_accuracy'])\n",
        "axes[0].legend(['categorical_accuracy','val_categorical_accuracy'])\n",
        "\n",
        "axes[1].plot(history.history['loss'])\n",
        "axes[1].plot(history.history['val_loss'])\n",
        "axes[1].legend(['loss','val_loss'])"
      ]
    }
  ],
  "metadata": {
    "accelerator": "GPU",
    "colab": {
      "provenance": []
    },
    "kernelspec": {
      "display_name": "Python 3",
      "language": "python",
      "name": "python3"
    },
    "language_info": {
      "codemirror_mode": {
        "name": "ipython",
        "version": 3
      },
      "file_extension": ".py",
      "mimetype": "text/x-python",
      "name": "python",
      "nbconvert_exporter": "python",
      "pygments_lexer": "ipython3",
      "version": "3.8.8"
    }
  },
  "nbformat": 4,
  "nbformat_minor": 0
}